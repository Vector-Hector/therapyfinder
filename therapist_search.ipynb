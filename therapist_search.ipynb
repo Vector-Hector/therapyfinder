{
 "cells": [
  {
   "metadata": {
    "ExecuteTime": {
     "end_time": "2025-07-19T15:11:02.740574Z",
     "start_time": "2025-07-19T15:11:02.728575Z"
    }
   },
   "cell_type": "code",
   "source": "user_msg = \"I'm struggling with anxiety and depression. I live in Berlin-Mitte and prefer sessions in German. I'm looking for cognitive behavioral therapy or psychotherapy. My email is patient@example.com and my name is Alex Mueller. I'm publically insured in Germany.\"",
   "id": "2646a976d5ea48e8",
   "outputs": [],
   "execution_count": 133
  },
  {
   "metadata": {
    "ExecuteTime": {
     "end_time": "2025-07-19T15:11:16.506669Z",
     "start_time": "2025-07-19T15:11:02.775578Z"
    }
   },
   "cell_type": "code",
   "source": [
    "import sys\n",
    "import time\n",
    "!{sys.executable} -m pip install openai python-dotenv requests reportlab\n"
   ],
   "id": "7d80e95795cb1294",
   "outputs": [
    {
     "name": "stdout",
     "output_type": "stream",
     "text": [
      "Requirement already satisfied: openai in c:\\users\\erikd\\appdata\\local\\packages\\pythonsoftwarefoundation.python.3.8_qbz5n2kfra8p0\\localcache\\local-packages\\python38\\site-packages (1.97.0)\n",
      "Requirement already satisfied: python-dotenv in c:\\users\\erikd\\appdata\\local\\packages\\pythonsoftwarefoundation.python.3.8_qbz5n2kfra8p0\\localcache\\local-packages\\python38\\site-packages (1.0.1)\n",
      "Requirement already satisfied: requests in c:\\users\\erikd\\appdata\\local\\packages\\pythonsoftwarefoundation.python.3.8_qbz5n2kfra8p0\\localcache\\local-packages\\python38\\site-packages (2.32.4)\n",
      "Requirement already satisfied: reportlab in c:\\users\\erikd\\appdata\\local\\packages\\pythonsoftwarefoundation.python.3.8_qbz5n2kfra8p0\\localcache\\local-packages\\python38\\site-packages (4.4.2)\n",
      "Requirement already satisfied: jiter<1,>=0.4.0 in c:\\users\\erikd\\appdata\\local\\packages\\pythonsoftwarefoundation.python.3.8_qbz5n2kfra8p0\\localcache\\local-packages\\python38\\site-packages (from openai) (0.9.1)\n",
      "Requirement already satisfied: typing-extensions<5,>=4.11 in c:\\users\\erikd\\appdata\\local\\packages\\pythonsoftwarefoundation.python.3.8_qbz5n2kfra8p0\\localcache\\local-packages\\python38\\site-packages (from openai) (4.13.2)\n",
      "Requirement already satisfied: httpx<1,>=0.23.0 in c:\\users\\erikd\\appdata\\local\\packages\\pythonsoftwarefoundation.python.3.8_qbz5n2kfra8p0\\localcache\\local-packages\\python38\\site-packages (from openai) (0.28.1)\n",
      "Requirement already satisfied: sniffio in c:\\users\\erikd\\appdata\\local\\packages\\pythonsoftwarefoundation.python.3.8_qbz5n2kfra8p0\\localcache\\local-packages\\python38\\site-packages (from openai) (1.3.1)\n",
      "Requirement already satisfied: tqdm>4 in c:\\users\\erikd\\appdata\\local\\packages\\pythonsoftwarefoundation.python.3.8_qbz5n2kfra8p0\\localcache\\local-packages\\python38\\site-packages (from openai) (4.67.1)\n",
      "Requirement already satisfied: pydantic<3,>=1.9.0 in c:\\users\\erikd\\appdata\\local\\packages\\pythonsoftwarefoundation.python.3.8_qbz5n2kfra8p0\\localcache\\local-packages\\python38\\site-packages (from openai) (2.10.6)\n",
      "Requirement already satisfied: anyio<5,>=3.5.0 in c:\\users\\erikd\\appdata\\local\\packages\\pythonsoftwarefoundation.python.3.8_qbz5n2kfra8p0\\localcache\\local-packages\\python38\\site-packages (from openai) (4.5.2)\n",
      "Requirement already satisfied: distro<2,>=1.7.0 in c:\\users\\erikd\\appdata\\local\\packages\\pythonsoftwarefoundation.python.3.8_qbz5n2kfra8p0\\localcache\\local-packages\\python38\\site-packages (from openai) (1.9.0)\n",
      "Requirement already satisfied: idna>=2.8 in c:\\users\\erikd\\appdata\\local\\packages\\pythonsoftwarefoundation.python.3.8_qbz5n2kfra8p0\\localcache\\local-packages\\python38\\site-packages (from anyio<5,>=3.5.0->openai) (2.9)\n",
      "Requirement already satisfied: exceptiongroup>=1.0.2 in c:\\users\\erikd\\appdata\\local\\packages\\pythonsoftwarefoundation.python.3.8_qbz5n2kfra8p0\\localcache\\local-packages\\python38\\site-packages (from anyio<5,>=3.5.0->openai) (1.3.0)\n",
      "Requirement already satisfied: httpcore==1.* in c:\\users\\erikd\\appdata\\local\\packages\\pythonsoftwarefoundation.python.3.8_qbz5n2kfra8p0\\localcache\\local-packages\\python38\\site-packages (from httpx<1,>=0.23.0->openai) (1.0.9)\n",
      "Requirement already satisfied: certifi in c:\\users\\erikd\\appdata\\local\\packages\\pythonsoftwarefoundation.python.3.8_qbz5n2kfra8p0\\localcache\\local-packages\\python38\\site-packages (from httpx<1,>=0.23.0->openai) (2020.4.5.1)\n",
      "Requirement already satisfied: h11>=0.16 in c:\\users\\erikd\\appdata\\local\\packages\\pythonsoftwarefoundation.python.3.8_qbz5n2kfra8p0\\localcache\\local-packages\\python38\\site-packages (from httpcore==1.*->httpx<1,>=0.23.0->openai) (0.16.0)\n",
      "Requirement already satisfied: annotated-types>=0.6.0 in c:\\users\\erikd\\appdata\\local\\packages\\pythonsoftwarefoundation.python.3.8_qbz5n2kfra8p0\\localcache\\local-packages\\python38\\site-packages (from pydantic<3,>=1.9.0->openai) (0.7.0)\n",
      "Requirement already satisfied: pydantic-core==2.27.2 in c:\\users\\erikd\\appdata\\local\\packages\\pythonsoftwarefoundation.python.3.8_qbz5n2kfra8p0\\localcache\\local-packages\\python38\\site-packages (from pydantic<3,>=1.9.0->openai) (2.27.2)\n",
      "Requirement already satisfied: colorama in c:\\users\\erikd\\appdata\\local\\packages\\pythonsoftwarefoundation.python.3.8_qbz5n2kfra8p0\\localcache\\local-packages\\python38\\site-packages (from tqdm>4->openai) (0.4.4)\n",
      "Requirement already satisfied: charset_normalizer<4,>=2 in c:\\users\\erikd\\appdata\\local\\packages\\pythonsoftwarefoundation.python.3.8_qbz5n2kfra8p0\\localcache\\local-packages\\python38\\site-packages (from requests) (3.4.2)\n",
      "Requirement already satisfied: urllib3<3,>=1.21.1 in c:\\users\\erikd\\appdata\\local\\packages\\pythonsoftwarefoundation.python.3.8_qbz5n2kfra8p0\\localcache\\local-packages\\python38\\site-packages (from requests) (1.25.9)\n",
      "Requirement already satisfied: pillow>=9.0.0 in c:\\users\\erikd\\appdata\\local\\packages\\pythonsoftwarefoundation.python.3.8_qbz5n2kfra8p0\\localcache\\local-packages\\python38\\site-packages (from reportlab) (10.4.0)\n"
     ]
    },
    {
     "name": "stderr",
     "output_type": "stream",
     "text": [
      "WARNING: You are using pip version 21.1.2; however, version 25.0.1 is available.\n",
      "You should consider upgrading via the 'C:\\Users\\erikd\\AppData\\Local\\Microsoft\\WindowsApps\\PythonSoftwareFoundation.Python.3.8_qbz5n2kfra8p0\\python.exe -m pip install --upgrade pip' command.\n"
     ]
    }
   ],
   "execution_count": 134
  },
  {
   "metadata": {
    "ExecuteTime": {
     "end_time": "2025-07-19T15:11:16.569292Z",
     "start_time": "2025-07-19T15:11:16.516733Z"
    }
   },
   "cell_type": "code",
   "source": [
    "from openai import OpenAI\n",
    "import os\n",
    "from dotenv import load_dotenv\n",
    "\n",
    "load_dotenv()\n",
    "client = OpenAI(api_key=os.getenv(\"OPENAI_API_KEY\"))\n"
   ],
   "id": "2feab36e4271595a",
   "outputs": [],
   "execution_count": 135
  },
  {
   "metadata": {
    "ExecuteTime": {
     "end_time": "2025-07-19T15:11:16.599344Z",
     "start_time": "2025-07-19T15:11:16.588294Z"
    }
   },
   "cell_type": "code",
   "source": [
    "system_prompt_structured_request_transform = \"\"\"You are an assistant that extracts structured search data for a doctor search API.\n",
    "You only return valid JSON matching the following structure:\n",
    "\n",
    "{\n",
    "  \"patient_name\": string // patient name\n",
    "  \"patient_email\": string // patient email\n",
    "  \"dist\": int, // max distance in km + 1\n",
    "  \"lon\": string, // longitude\n",
    "  \"lat\": string, // latitude\n",
    "  \"fg\": string, // filter by field code\n",
    "  \"zb\": string, // filter by additional field code (\"Ärztliche Zusatzbezeichungen\")\n",
    "  \"bf\": string, // filter by accessibility code\n",
    "  \"S\": string, // filter by therapist preferred sex \"F\" for female, \"M\" for male\n",
    "  \"fs\": string, // filter by language. each has a code. too many to list here, but English is \"3\"\n",
    "  \"pta\": string, // filter by psychotherapy target group \"E\" for adults, \"K\" for children\n",
    "  \"pts\": string, // filter by psychotherapy mode \"E\" for 1o1 therapy, \"G\" for group\n",
    "  \"ptv\": string, // filter by psychotherapy foundation. \"S\" for systemic, \"T\" for depth psychology, \"A\" for analytical, \"V\" for behavioural\n",
    "  \"n\": string, // filter by therapist name\n",
    "}\n",
    "\n",
    "Omit any filter fields you don't know or are not relevant.\n",
    "\n",
    "Use default values when necessary. If city is mentioned, guess lat/lon.\n",
    "\"\"\""
   ],
   "id": "fee7652d701e5930",
   "outputs": [],
   "execution_count": 136
  },
  {
   "metadata": {
    "ExecuteTime": {
     "end_time": "2025-07-19T15:11:16.630857Z",
     "start_time": "2025-07-19T15:11:16.619353Z"
    }
   },
   "cell_type": "code",
   "source": [
    "system_prompt_therapist_response_categorization = \"\"\"You are tasked with a process involving email responses from therapists regarding the availability of psychotherapy spots. There may be parts of the patient's requests at the end. Ignore that.'\n",
    "\n",
    "Categorize the relevant information as follows:\n",
    "\n",
    "- 'no': If the therapist indicates they have no capacity or availability, either explicitly or implicitly. This also applies if they are temporarily blocked or they are on vacation.\n",
    "\n",
    "- 'yes': If the therapist confirms any type of availability. Or mentions there is a free therapy spot. Or offers a first meeting. Or asks for more info to schedule a meeting such as telephone numbers or schedules.\n",
    "\n",
    "- 'invalid_request': If the therapist either feels like they aren't the right person to talk to, doesn't do psychotherapy or the age group doesn't match. Or if there was an error delivering an email for example SMTP errors, invalid target emails, mailbox full, mailbox unavailable, etc.\n",
    "\n",
    "- 'waiting_list': If the therapist currently doesn't have a spot but explicitly offers adding the patient to a waiting list. Offering alternatives does not fulfill this condition. And mentioning a full waiting list also does not fulfill this condition.\n",
    "\n",
    "- 'automatic': If it is an automated response confirming recept or informing about processing times, contact guidelines, vacation times or other reasons.\n",
    "\n",
    "- 'neither': If you cannot draw a conclusion about availability from the email.\n",
    "\n",
    "Example:\n",
    "\n",
    "Email: 'Dear Ms. Venti, Thank you for your inquiry. Unfortunately, I cannot offer you a free therapy or waitlist spot at this time. I suggest that you use the following websites during your search for a therapy spot: www.psych-info.de'\n",
    "\n",
    "Relevant Information: 'Unfortunately, I cannot offer you a free therapy or waitlist spot at this time.'\n",
    "\n",
    "Categorization: 'no'\n",
    "\n",
    "Reason: The therapist explicitly states that they cannot offer a therapy or waitlist spot at this time.\n",
    "\n",
    "Output in this format:\n",
    "{\"catgory\":\"<category>\",\"availability_context\":\"<context>\"}\n",
    "\n",
    "availability_context is a short summary of the availability information. In case of a waiting list offer with a timeframe, add this timeframe.\n",
    "\"\"\""
   ],
   "id": "5b280239c9c2ae8",
   "outputs": [],
   "execution_count": 137
  },
  {
   "metadata": {
    "ExecuteTime": {
     "end_time": "2025-07-19T15:11:16.693350Z",
     "start_time": "2025-07-19T15:11:16.681344Z"
    }
   },
   "cell_type": "code",
   "source": [
    "import json\n",
    "\n",
    "def generate_structured_request(user_input):\n",
    "    resp = client.chat.completions.create(\n",
    "        model=\"gpt-4\",\n",
    "        messages=[\n",
    "            {\"role\": \"system\", \"content\": system_prompt_structured_request_transform},\n",
    "            {\"role\": \"user\", \"content\": user_input}\n",
    "        ],\n",
    "        temperature=0.2,\n",
    "    )\n",
    "    return json.loads(resp.choices[0].message.content)\n"
   ],
   "id": "5bbcb232a50a9d4b",
   "outputs": [],
   "execution_count": 139
  },
  {
   "metadata": {
    "ExecuteTime": {
     "end_time": "2025-07-19T15:11:16.724347Z",
     "start_time": "2025-07-19T15:11:16.711344Z"
    }
   },
   "cell_type": "code",
   "source": [
    "import json\n",
    "\n",
    "def find_therapists(data):\n",
    "    # simplified. in production, would use therapist search api integration such as https://github.com/Vector-Hector/kvberlin\n",
    "    with open(\"therapist_api_example.json\", \"r\", encoding=\"utf-8\") as f:\n",
    "        return json.load(f)"
   ],
   "id": "766790e9f15b2e43",
   "outputs": [],
   "execution_count": 140
  },
  {
   "metadata": {
    "ExecuteTime": {
     "end_time": "2025-07-19T15:11:16.770886Z",
     "start_time": "2025-07-19T15:11:16.752353Z"
    }
   },
   "cell_type": "code",
   "source": [
    "import os\n",
    "import random\n",
    "\n",
    "time_out_length = 7 # 7 days till time out\n",
    "\n",
    "def email_therapist(therapist):\n",
    "    # simplified. in production, would use callback+timeout\n",
    "    if random.random() < 0.3:\n",
    "        return {\n",
    "            \"error\": \"time_out\"\n",
    "        }\n",
    "\n",
    "    response_dir = \"example_responses\"\n",
    "    files = [f for f in os.listdir(response_dir) if f.endswith(\".json\")]\n",
    "    if not files:\n",
    "        raise FileNotFoundError(\"No JSON files found in example_responses/\")\n",
    "\n",
    "    chosen_file = random.choice(files)\n",
    "    path = os.path.join(response_dir, chosen_file)\n",
    "\n",
    "    with open(path, \"r\", encoding=\"utf-8\") as f:\n",
    "        return json.load(f)"
   ],
   "id": "98fd87819a318609",
   "outputs": [],
   "execution_count": 141
  },
  {
   "metadata": {
    "ExecuteTime": {
     "end_time": "2025-07-19T15:11:16.817552Z",
     "start_time": "2025-07-19T15:11:16.804515Z"
    }
   },
   "cell_type": "code",
   "source": [
    "def categorize_therapist_response(therapist_response):\n",
    "    if \"error\" in therapist_response and therapist_response[\"error\"] is not None:\n",
    "        if therapist_response[\"error\"] == \"time_out\":\n",
    "            return {\n",
    "                \"category\": \"time_out\",\n",
    "                \"availability_context\": \"Therapist did not respond within \" + str(time_out_length) + \" days.\"\n",
    "            }\n",
    "\n",
    "    resp = client.chat.completions.create(\n",
    "        model=\"gpt-4\",\n",
    "        messages=[\n",
    "            {\"role\": \"system\", \"content\": system_prompt_therapist_response_categorization},\n",
    "            {\"role\": \"user\", \"content\": therapist_response[\"body\"][\"plain\"]}\n",
    "        ],\n",
    "        temperature=0.2,\n",
    "    )\n",
    "    return json.loads(resp.choices[0].message.content)\n",
    "\n"
   ],
   "id": "4fa2774b51ac36cd",
   "outputs": [],
   "execution_count": 142
  },
  {
   "metadata": {
    "ExecuteTime": {
     "end_time": "2025-07-19T15:11:20.163086Z",
     "start_time": "2025-07-19T15:11:16.835540Z"
    }
   },
   "cell_type": "code",
   "source": "structured = generate_structured_request(user_msg)",
   "id": "9d6337cfadfdf66c",
   "outputs": [],
   "execution_count": 143
  },
  {
   "metadata": {
    "ExecuteTime": {
     "end_time": "2025-07-19T15:11:20.210573Z",
     "start_time": "2025-07-19T15:11:20.199145Z"
    }
   },
   "cell_type": "code",
   "source": "therapists = find_therapists(structured)",
   "id": "80aa9613f7b50d2e",
   "outputs": [],
   "execution_count": 144
  },
  {
   "metadata": {
    "ExecuteTime": {
     "end_time": "2025-07-19T15:11:36.473715Z",
     "start_time": "2025-07-19T15:11:20.229635Z"
    }
   },
   "cell_type": "code",
   "source": [
    "import time\n",
    "from datetime import datetime\n",
    "\n",
    "therapy_found = False\n",
    "\n",
    "categorized = []\n",
    "\n",
    "for therapist in therapists:\n",
    "    request_time = datetime.now().strftime(\"%d.%m.%Y %H:%M\")\n",
    "    response = email_therapist(therapist)\n",
    "\n",
    "    cat = categorize_therapist_response(response)\n",
    "\n",
    "    categorized.append({\n",
    "        \"request_time\": request_time,\n",
    "        \"therapist\": therapist,\n",
    "        \"response\": response,\n",
    "        \"categorization\": cat,\n",
    "    })\n",
    "\n",
    "    time.sleep(0.5)"
   ],
   "id": "14e70d9a5a04d638",
   "outputs": [],
   "execution_count": 145
  },
  {
   "metadata": {
    "ExecuteTime": {
     "end_time": "2025-07-19T15:11:40.698322Z",
     "start_time": "2025-07-19T15:11:40.684367Z"
    }
   },
   "cell_type": "code",
   "source": [
    "if \"yes\" in [cat[\"categorization\"][\"category\"] for cat in categorized]:\n",
    "    print(\"A therapist has been found!\")"
   ],
   "id": "6cbccf5e8d8ad052",
   "outputs": [],
   "execution_count": 148
  },
  {
   "metadata": {
    "ExecuteTime": {
     "end_time": "2025-07-19T16:13:20.658972Z",
     "start_time": "2025-07-19T16:13:20.537769Z"
    }
   },
   "cell_type": "code",
   "source": [
    "from reportlab.lib.pagesizes import A4\n",
    "from reportlab.platypus import SimpleDocTemplate, Table, TableStyle, Paragraph, Spacer\n",
    "from reportlab.lib.styles import getSampleStyleSheet, ParagraphStyle\n",
    "from reportlab.lib import colors\n",
    "from reportlab.platypus import Image\n",
    "from collections import Counter\n",
    "\n",
    "patient_name = structured[\"patient_name\"]\n",
    "patient_email = structured[\"patient_email\"]\n",
    "\n",
    "def generate_pdf(data, filename=\"output.pdf\"):\n",
    "    doc = SimpleDocTemplate(filename, pagesize=A4)\n",
    "    styles = getSampleStyleSheet()\n",
    "    styles.add(ParagraphStyle(name=\"LeftTitle\", parent=styles[\"Title\"], alignment=0))  # 0 = left\n",
    "    elements = []\n",
    "\n",
    "    # Main header\n",
    "\n",
    "    img = Image(\"therapynowlogo.png\")  # adjust size\n",
    "    img.hAlign = \"RIGHT\"\n",
    "    target_height = 30  # in points\n",
    "\n",
    "    # Scale width proportionally\n",
    "    aspect = img.imageWidth / img.imageHeight\n",
    "    img.drawHeight = target_height\n",
    "    img.drawWidth = target_height * aspect\n",
    "    elements.append(img)  # insert at top\n",
    "\n",
    "    elements.append(Spacer(1, 20))\n",
    "    elements.append(Paragraph(\"Protocol: On the Search for an Outpatient Psychotherapy Slot with Statutory Health Insurance-Approved Psychotherapists\", styles['LeftTitle']))\n",
    "    elements.append(Spacer(1, 20))\n",
    "    elements.append(Paragraph(\"Created using Therapy now. This protocol's purpose is to prove that the patient, \" + patient_name + \" actively searched for suitable therapists with available therapy spots. After the patient reached out to us, we searched for suitable therapists and contacted \" + str(len(data)) + \" of them. Here is a summary of the responses:\", styles['Normal']))\n",
    "    elements.append(Spacer(1, 20))\n",
    "\n",
    "    counts = Counter(element[\"categorization\"][\"category\"] for element in data)\n",
    "    category_names = {\n",
    "        \"no\": \"stated they have no available therapy spots\",\n",
    "        \"yes\": \"stated they do have available therapy spots\",\n",
    "        \"waiting_list\": \"offered to add the patient to a waiting list\",\n",
    "        \"time_out\": \"did not respond within a reasonable time frame\",\n",
    "        \"automatic\": \"only responded with an auto-generated response such as holiday notices\",\n",
    "        \"neither\": \"could not be categorized\",\n",
    "        \"invalid_request\": \"stated they are not the right person to contact\",\n",
    "    }\n",
    "\n",
    "    summary_data = [[counts[key], category_names[key]] for key in counts]\n",
    "\n",
    "    summary_table = Table(summary_data, colWidths=[10, 440])\n",
    "    summary_table.setStyle(TableStyle([\n",
    "        ('BOX', (0,0), (-1,-1), 1, colors.transparent),\n",
    "        ('GRID', (0,0), (-1,-1), 0.5, colors.transparent),\n",
    "        ('FONT', (0,0), (-1,-1), 'Helvetica', 10)\n",
    "    ]))\n",
    "    elements.append(summary_table)\n",
    "    elements.append(Spacer(1, 20))\n",
    "\n",
    "    elements.append(Paragraph(\"Patient name: \" + patient_name, styles['Normal']))\n",
    "    elements.append(Spacer(1, 5))\n",
    "\n",
    "    elements.append(Paragraph(\"Patient email: \" + patient_email, styles['Normal']))\n",
    "    elements.append(Spacer(1, 5))\n",
    "\n",
    "    i = 0\n",
    "\n",
    "    for element in data:\n",
    "        category = element[\"categorization\"][\"category\"]\n",
    "\n",
    "        if category == \"invalid_request\":\n",
    "            continue # not viable for reimbursement if we contacted the wrong person\n",
    "\n",
    "        date_of_contact = element[\"request_time\"]\n",
    "        type_of_contact = \"E-Mail\"\n",
    "        therapist_name = element[\"therapist\"][\"n\"]\n",
    "        therapist_email = element[\"therapist\"][\"e\"]\n",
    "        therapist_phone = element[\"therapist\"][\"te\"]\n",
    "        therapist_address = element[\"therapist\"][\"st\"] + \" \" + element[\"therapist\"][\"ha\"] + \", \" + element[\"therapist\"][\"pl\"] + \" \" + element[\"therapist\"][\"o\"]\n",
    "\n",
    "        availability_information = element[\"categorization\"][\"availability_context\"]\n",
    "\n",
    "        elements.append(Paragraph(f\"Therapist #{i + 1}\", styles['Heading2']))\n",
    "        data = [\n",
    "            [\"Date and time of contact\", date_of_contact],\n",
    "            [\"Type of contact\", type_of_contact],\n",
    "            [\"Name of the psychotherapist\", therapist_name],\n",
    "            [\"Address of the psychotherapist\", therapist_address],\n",
    "            [\"E-Mail of the psychotherapist\", therapist_email],\n",
    "            [\"Phone number of the psychotherapist\", therapist_phone],\n",
    "            [\"Information on potential therapy spots\", availability_information]\n",
    "        ]\n",
    "        data = [[Paragraph(a, styles[\"Normal\"]), Paragraph(b, styles[\"Normal\"])] for a, b in data]\n",
    "\n",
    "        table = Table(data, colWidths=[150, 300])\n",
    "        table.setStyle(TableStyle([\n",
    "            ('BOX', (0,0), (-1,-1), 1, colors.black),\n",
    "            ('GRID', (0,0), (-1,-1), 0.5, colors.grey),\n",
    "            ('FONT', (0,0), (-1,-1), 'Helvetica', 10)\n",
    "        ]))\n",
    "        elements.append(table)\n",
    "        elements.append(Spacer(1, 20))\n",
    "        i+=1\n",
    "\n",
    "\n",
    "    elements.append(Spacer(1, 20))\n",
    "    elements.append(Paragraph(\"Patient signature: _______________________\", styles['Normal']))\n",
    "    elements.append(Spacer(1, 5))\n",
    "\n",
    "    doc.build(elements)\n",
    "\n",
    "    return summary_data\n",
    "\n",
    "summary = generate_pdf(categorized, \"therapists.pdf\")\n",
    "\n"
   ],
   "id": "fbf5dd6555f184e2",
   "outputs": [],
   "execution_count": 179
  },
  {
   "metadata": {
    "ExecuteTime": {
     "end_time": "2025-07-19T16:21:24.652780Z",
     "start_time": "2025-07-19T16:21:24.643779Z"
    }
   },
   "cell_type": "code",
   "source": [
    "# simulate writing email to the patient\n",
    "email = \"Hi \" + patient_name + \"\"\",\n",
    "\n",
    "we have been reaching out to \"\"\" + str(len(categorized)) + \" therapists and these are the responses: \\n\\n\"\n",
    "\n",
    "i = 0\n",
    "for num, summary_name in summary:\n",
    "    email += str(num) + \" \" + summary_name\n",
    "    if i != len(summary) - 1:\n",
    "         email += \", \"\n",
    "    else:\n",
    "        email += \". \\n\"\n",
    "    i+=1\n",
    "\n",
    "email += \"\"\"\n",
    "We attached an important document to this email. You can use it to a request reimbursement procedure with your health insurer in case you have been looking for a therapy spot without success.\n",
    "\n",
    "Our agent can guide you through the rest of the process.\n",
    "\n",
    "Thank you for choosing us!\n",
    "Your Therapy now team\n",
    "\"\"\"\n",
    "\n",
    "print(email)"
   ],
   "id": "7ff2f5a342049faf",
   "outputs": [
    {
     "name": "stdout",
     "output_type": "stream",
     "text": [
      "Hi Alex Mueller,\n",
      "\n",
      "we have been reaching out to 10 therapists and these are the responses: \n",
      "\n",
      "6 stated they have no available therapy spots, 3 did not respond within a reasonable time frame, 1 offered to add the patient to a waiting list. \n",
      "\n",
      "We attached an important document to this email. You can use it to a request reimbursement procedure with your health insurer in case you have been looking for a therapy spot without success.\n",
      "\n",
      "Our agent can guide you through the rest of the process.\n",
      "\n",
      "Thank you for choosing us!\n",
      "Your Therapy now team\n",
      "\n"
     ]
    }
   ],
   "execution_count": 187
  },
  {
   "metadata": {},
   "cell_type": "code",
   "outputs": [],
   "execution_count": null,
   "source": "",
   "id": "c4c5f98c0f8119c4"
  }
 ],
 "metadata": {
  "kernelspec": {
   "display_name": "Python 3",
   "language": "python",
   "name": "python3"
  },
  "language_info": {
   "codemirror_mode": {
    "name": "ipython",
    "version": 2
   },
   "file_extension": ".py",
   "mimetype": "text/x-python",
   "name": "python",
   "nbconvert_exporter": "python",
   "pygments_lexer": "ipython2",
   "version": "2.7.6"
  }
 },
 "nbformat": 4,
 "nbformat_minor": 5
}
